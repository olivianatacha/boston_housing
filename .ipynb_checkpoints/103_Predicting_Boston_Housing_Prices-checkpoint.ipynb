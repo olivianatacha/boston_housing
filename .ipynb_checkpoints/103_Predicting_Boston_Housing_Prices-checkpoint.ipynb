{
 "cells": [
  {
   "cell_type": "markdown",
   "metadata": {},
   "source": [
    "# Predicting Boston Housing Prices - 232\n",
    "\n",
    "\n",
    "\n",
    "\n"
   ]
  },
  {
   "cell_type": "markdown",
   "metadata": {},
   "source": [
    " "
   ]
  },
  {
   "cell_type": "markdown",
   "metadata": {},
   "source": [
    "# <span style=\"color:rgb(50,150,50)\">Data Exploration</span> "
   ]
  },
  {
   "cell_type": "markdown",
   "metadata": {},
   "source": [
    "### <span style=\"color:rgb(50,50,50)\">Statistical Analysis</span> \n",
    "\n",
    "- #### <span style=\"color:rgb(183,28,28)\">All requested statistics for the Boston Housing dataset are accurately calculated. Student correctly leverages NumPy functionality to obtain these results.</span> \n",
    "\n",
    "\n",
    "##### <span style=\"color:rgb(41,121,255)\">Meets Specification</span> \n",
    "Accurate calculation of statistics for the Boston Housing dataset.Correct values for data points and number of variables. \n",
    "\n",
    "### <span style=\"color:rgb(50,50,50)\">Question 1\n",
    "</span>\n",
    "#### <span style=\"color:rgb(183,28,28)\">Feature Observation:</span> \n",
    "\n",
    "- #### <span style=\"color:rgb(183,28,28)\">Student correctly justifies how each feature correlates with an increase or decrease in the target variable.</span> \n",
    "\n",
    "\n",
    "##### <span style=\"color:rgb(41,121,255)\">Meets Specification</span> \n",
    "<span style=\"color:rgb(50,50,50)\">Great intuition applied to justify the correlation of features and the target variable. Correct correlation given for  'RM', 'LSTAT', and 'PTRATIO' and the target 'MEDV'</span>\n",
    "\n",
    "<span style=\"color:rgb(200,150, 80)\">Feedback:</span>Good job here, LSTAT correlates with a lower MDEV, higher RM correlates with a higher MDEV, but for PTRATIO, I'd say it is hard to justify either direction.PTRATIO does not show any strong correlation with MEDV so its correlation can be argued either way:"
   ]
  },
  {
   "cell_type": "markdown",
   "metadata": {},
   "source": [
    "# <span style=\"color:rgb(50,150,50)\">Developing a Model</span>"
   ]
  },
  {
   "cell_type": "markdown",
   "metadata": {},
   "source": [
    "### <span style=\"color:rgb(50,50,50)\">Question 2\n",
    "</span>\n",
    "#### <span style=\"color:rgb(183,28,28)\">Goodness of Fit:</span> \n",
    "\n",
    "- #### <span style=\"color:rgb(183,28,28)\">Student correctly identifies whether the hypothetical model successfully captures the variation of the target variable based on the model’s R^2 score.\n",
    "The performance metric is correctly implemented in code.</span> \n",
    "\n",
    "##### <span style=\"color:rgb(41,121,255)\">Meets Specification</span> \n"
   ]
  },
  {
   "cell_type": "markdown",
   "metadata": {},
   "source": [
    "### <span style=\"color:rgb(50,50,50)\">Question 3\n",
    "</span>\n",
    "#### <span style=\"color:rgb(183,28,28)\">Training and Testing:</span> \n",
    "\n",
    "- #### <span style=\"color:rgb(183,28,28)\">\n",
    "Student provides a valid reason for why a dataset is split into training and testing subsets for a model. Training and testing split is correctly implemented in code.</span> \n",
    "\n",
    "##### <span style=\"color:rgb(41,121,255)\">Meets Specification</span> \n",
    "<span style=\"color:rgb(50,50,50)\">Acceptable reason for splitting the dataset into training and testing subsets of the model. Getting a guarantee for the performance of the learnt model is worth the test. Great job.\n",
    "Successful implementation of the training and testing split.\n",
    "</span>\n",
    "\n",
    "<span style=\"color:rgb(200,150, 80)\">Feedback:</span>Great!."
   ]
  },
  {
   "cell_type": "markdown",
   "metadata": {},
   "source": [
    "# <span style=\"color:rgb(50,150,50)\">Analyzing Model Performance</span>"
   ]
  },
  {
   "cell_type": "markdown",
   "metadata": {},
   "source": [
    "### <span style=\"color:rgb(50,50,50)\">Question 4\n",
    "</span>\n",
    "#### <span style=\"color:rgb(183,28,28)\">Learning the Data:</span> \n",
    "\n",
    "- #### <span style=\"color:rgb(183,28,28)\">Student correctly identifies the trend of both the training and testing curves from the graph as more training points are added. Discussion is made as to whether additional training points would benefit the model.</span> \n",
    "\n",
    "##### <span style=\"color:rgb(41,121,255)\">Meets Specification</span> \n",
    "<span style=\"color:rgb(50,50,50)\">Correct identification of the trend of the training and testing curves as more training points are added. Right judgement on the effect of the addition of training points to the model. </span>"
   ]
  },
  {
   "cell_type": "markdown",
   "metadata": {},
   "source": [
    "### <span style=\"color:rgb(50,50,50)\">Question 5\n",
    "</span>\n",
    "#### <span style=\"color:rgb(183,28,28)\">Bias variance:</span> \n",
    "\n",
    "- #### <span style=\"color:rgb(183,28,28)\">Student correctly identifies whether the model at a max depth of 1 and a max depth of 10 suffer from either high bias or high variance, with justification using the complexity curves graph.</span> \n",
    "\n",
    "##### <span style=\"color:rgb(41,121,255)\">Meets Specification</span> \n",
    "Great statistical analysis and uncommon intuition demonstrated."
   ]
  },
  {
   "cell_type": "markdown",
   "metadata": {},
   "source": [
    "### <span style=\"color:rgb(50,50,50)\">Question 6:\n",
    "</span>\n",
    "#### <span style=\"color:rgb(183,28,28)\">Best-Guess Optimal Model:</span> \n",
    "\n",
    "- #### <span style=\"color:rgb(183,28,28)\">Student correctly identifies whether the model at a max depth of 1 and a max depth of 10 suffer from either high bias or high variance, with justification using the complexity curves graph.</span> \n",
    "\n",
    "##### <span style=\"color:rgb(41,121,255)\">Meets Specification</span> \n",
    "<span style=\"color:rgb(50,50,50)\">Please remove the wrong one.</span>\n",
    "\n",
    "<span style=\"color:rgb(200,150, 80)\">Feedback:</span>Either 3 or 4 is good here. max_depth of 4 gives slightly higher validation score, but less complexity in max_depth 3 is also a good reason to choose it, aside from the fact that model used for training more closely matches its performance on unseen data as seen by the closer convergence between training and test errors."
   ]
  },
  {
   "cell_type": "markdown",
   "metadata": {},
   "source": [
    "# <span style=\"color:rgb(50,150,50)\">Evaluating Model performance</span> "
   ]
  },
  {
   "cell_type": "markdown",
   "metadata": {},
   "source": [
    "### <span style=\"color:rgb(50,50,50)\">Question 7:\n",
    "</span>\n",
    "#### <span style=\"color:rgb(183,28,28)\">Grid Search:</span> \n",
    "\n",
    "- #### <span style=\"color:rgb(183,28,28)\">Student correctly describes the grid search technique and how it can be applied to a learning algorithm.</span> \n",
    "\n",
    "##### <span style=\"color:rgb(183,28,28)\">Requires Changes</span> \n",
    "Great job defining the grid search technique.\n",
    "\n",
    "##### <span style=\"color:rgb(183,28,28)\">Required amends</span> \n",
    "\n",
    "To meet specification, explain how this model can be applied to optimise a learning algorith."
   ]
  },
  {
   "cell_type": "markdown",
   "metadata": {},
   "source": [
    "### <span style=\"color:rgb(50,50,50)\">Question 8:</span>\n",
    "\n",
    "#### <span style=\"color:rgb(50,50,50)\">Cross-Validation</span>\n",
    "\t\n",
    "\n",
    "#### <span style=\"color:rgb(50,50,50)\">Student correctly describes the k-fold cross-validation technique and discusses the benefits of its application when used with grid search when optimizing a model.\n",
    "</span>\n",
    "\n",
    "##### <span style=\"color:rgb(41,121,255)\">Meets Specification</span> \n"
   ]
  },
  {
   "cell_type": "markdown",
   "metadata": {},
   "source": [
    "#### <span style=\"color:rgb(183,28,28)\">Fitting a Model:</span> \n",
    "\n",
    "- #### <span style=\"color:rgb(183,28,28)\">Student correctly implements the fit_model function in code.</span> \n",
    "##### <span style=\"color:rgb(41,121,255)\">Meets Specification</span> \n"
   ]
  },
  {
   "cell_type": "markdown",
   "metadata": {},
   "source": [
    "### <span style=\"color:rgb(50,50,50)\">Question 9\n",
    "</span>\n",
    "#### <span style=\"color:rgb(183,28,28)\">Optimal Model:</span> \n",
    "\n",
    "- #### <span style=\"color:rgb(183,28,28)\">Student reports the optimal model and compares this model to the one they chose earlier.</span> \n",
    "\n",
    "##### <span style=\"color:rgb(41,121,255)\">Meets Specification</span> \n",
    "\n",
    "##### <span style=\"color:rgb(41,121,255)\">Suggestion</span> \n",
    "-Consideration should be given to eliminate the trail of numbers which is not a requirement for this rubric.\n"
   ]
  },
  {
   "cell_type": "markdown",
   "metadata": {},
   "source": [
    "### <span style=\"color:rgb(50,50,50)\">Question 10\n",
    "</span>\n",
    "#### <span style=\"color:rgb(183,28,28)\">Predicting Selling Prices:</span> \n",
    "\n",
    "- #### <span style=\"color:rgb(183,28,28)\">Student reports the predicted selling price for the three clients listed in the provided table. Discussion is made for each of the three predictions as to whether these prices are reasonable given the data and the earlier calculated descriptive statistics.</span> \n",
    "\n",
    "##### <span style=\"color:rgb(41,121,255)\">Meets Specification</span> \n",
    "\n",
    "\n",
    "<span style=\"color:rgb(200,150, 80)\"> \n",
    "Great job at evaluating the model performance.  Great use of intuition and descriptive statistics in deciding how reasonable predictions are. Perfect!\n",
    "</span>\n",
    "##### <span style=\"color:rgb(41,121,255)\">Suggestion</span> \n",
    "-Consideration should be given to eliminate the trail of numbers which is not a requirement for this rubric."
   ]
  },
  {
   "cell_type": "markdown",
   "metadata": {},
   "source": []
  },
  {
   "cell_type": "markdown",
   "metadata": {},
   "source": [
    "### <span style=\"color:rgb(50,50,50)\">Question 11:\n",
    "</span>\n",
    "#### <span style=\"color:rgb(183,28,28)\">Applicability:</span> \n",
    "\n",
    "- #### <span style=\"color:rgb(183,28,28)\">Student thoroughly discusses whether the model should or should not be used in a real-world setting..</span> \n",
    "\n",
    "##### <span style=\"color:rgb(41,121,255)\">Meets Specification:</span>  \n",
    "Excellent analysis!\n"
   ]
  },
  {
   "cell_type": "markdown",
   "metadata": {},
   "source": [
    "## <span style=\"color:rgb(41,121,255)\">Remark</span>"
   ]
  },
  {
   "cell_type": "markdown",
   "metadata": {},
   "source": [
    "Feedback: Great job.  With the few tweaks recommended, a phenemenal project is imminent in the next submission.\n",
    "\n",
    "Keep up the hard work."
   ]
  },
  {
   "cell_type": "markdown",
   "metadata": {
    "collapsed": true
   },
   "source": []
  }
 ],
 "metadata": {
  "anaconda-cloud": {},
  "kernelspec": {
   "display_name": "Python [default]",
   "language": "python",
   "name": "python2"
  },
  "language_info": {
   "codemirror_mode": {
    "name": "ipython",
    "version": 2
   },
   "file_extension": ".py",
   "mimetype": "text/x-python",
   "name": "python",
   "nbconvert_exporter": "python",
   "pygments_lexer": "ipython2",
   "version": "2.7.12"
  }
 },
 "nbformat": 4,
 "nbformat_minor": 1
}
